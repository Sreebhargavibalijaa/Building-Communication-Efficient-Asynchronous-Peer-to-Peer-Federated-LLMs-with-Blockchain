{
  "nbformat": 4,
  "nbformat_minor": 0,
  "metadata": {
    "colab": {
      "provenance": []
    },
    "kernelspec": {
      "name": "python3",
      "display_name": "Python 3"
    },
    "language_info": {
      "name": "python"
    },
    "widgets": {
      "application/vnd.jupyter.widget-state+json": {
        "bc32bd8895f64bdeb2b75ffa83596c99": {
          "model_module": "@jupyter-widgets/controls",
          "model_name": "HBoxModel",
          "model_module_version": "1.5.0",
          "state": {
            "_dom_classes": [],
            "_model_module": "@jupyter-widgets/controls",
            "_model_module_version": "1.5.0",
            "_model_name": "HBoxModel",
            "_view_count": null,
            "_view_module": "@jupyter-widgets/controls",
            "_view_module_version": "1.5.0",
            "_view_name": "HBoxView",
            "box_style": "",
            "children": [
              "IPY_MODEL_9542535b71bc49cb8da74c02befe670f",
              "IPY_MODEL_b6569f4b2ea34ba199f5fa250fe586b0",
              "IPY_MODEL_1df812f950b247bdb809fc14dfb6e66f"
            ],
            "layout": "IPY_MODEL_041d428251d8439da63b5d196bbfdaf7"
          }
        },
        "9542535b71bc49cb8da74c02befe670f": {
          "model_module": "@jupyter-widgets/controls",
          "model_name": "HTMLModel",
          "model_module_version": "1.5.0",
          "state": {
            "_dom_classes": [],
            "_model_module": "@jupyter-widgets/controls",
            "_model_module_version": "1.5.0",
            "_model_name": "HTMLModel",
            "_view_count": null,
            "_view_module": "@jupyter-widgets/controls",
            "_view_module_version": "1.5.0",
            "_view_name": "HTMLView",
            "description": "",
            "description_tooltip": null,
            "layout": "IPY_MODEL_1d2db4bebe9a4d74a8ac49b1b9f8ac99",
            "placeholder": "​",
            "style": "IPY_MODEL_7af5cbfe117b408e81f89e60ec51f072",
            "value": "model.safetensors: 100%"
          }
        },
        "b6569f4b2ea34ba199f5fa250fe586b0": {
          "model_module": "@jupyter-widgets/controls",
          "model_name": "FloatProgressModel",
          "model_module_version": "1.5.0",
          "state": {
            "_dom_classes": [],
            "_model_module": "@jupyter-widgets/controls",
            "_model_module_version": "1.5.0",
            "_model_name": "FloatProgressModel",
            "_view_count": null,
            "_view_module": "@jupyter-widgets/controls",
            "_view_module_version": "1.5.0",
            "_view_name": "ProgressView",
            "bar_style": "success",
            "description": "",
            "description_tooltip": null,
            "layout": "IPY_MODEL_63435786d21f4ea9b781be3313a05f65",
            "max": 498818054,
            "min": 0,
            "orientation": "horizontal",
            "style": "IPY_MODEL_30ef1f23ef7c486ca7e1142f67659175",
            "value": 498818054
          }
        },
        "1df812f950b247bdb809fc14dfb6e66f": {
          "model_module": "@jupyter-widgets/controls",
          "model_name": "HTMLModel",
          "model_module_version": "1.5.0",
          "state": {
            "_dom_classes": [],
            "_model_module": "@jupyter-widgets/controls",
            "_model_module_version": "1.5.0",
            "_model_name": "HTMLModel",
            "_view_count": null,
            "_view_module": "@jupyter-widgets/controls",
            "_view_module_version": "1.5.0",
            "_view_name": "HTMLView",
            "description": "",
            "description_tooltip": null,
            "layout": "IPY_MODEL_1a18941d3b334ee5ba651a1b95b9ca68",
            "placeholder": "​",
            "style": "IPY_MODEL_0112e7fbea714544a097936b836edb15",
            "value": " 499M/499M [00:03&lt;00:00, 68.4MB/s]"
          }
        },
        "041d428251d8439da63b5d196bbfdaf7": {
          "model_module": "@jupyter-widgets/base",
          "model_name": "LayoutModel",
          "model_module_version": "1.2.0",
          "state": {
            "_model_module": "@jupyter-widgets/base",
            "_model_module_version": "1.2.0",
            "_model_name": "LayoutModel",
            "_view_count": null,
            "_view_module": "@jupyter-widgets/base",
            "_view_module_version": "1.2.0",
            "_view_name": "LayoutView",
            "align_content": null,
            "align_items": null,
            "align_self": null,
            "border": null,
            "bottom": null,
            "display": null,
            "flex": null,
            "flex_flow": null,
            "grid_area": null,
            "grid_auto_columns": null,
            "grid_auto_flow": null,
            "grid_auto_rows": null,
            "grid_column": null,
            "grid_gap": null,
            "grid_row": null,
            "grid_template_areas": null,
            "grid_template_columns": null,
            "grid_template_rows": null,
            "height": null,
            "justify_content": null,
            "justify_items": null,
            "left": null,
            "margin": null,
            "max_height": null,
            "max_width": null,
            "min_height": null,
            "min_width": null,
            "object_fit": null,
            "object_position": null,
            "order": null,
            "overflow": null,
            "overflow_x": null,
            "overflow_y": null,
            "padding": null,
            "right": null,
            "top": null,
            "visibility": null,
            "width": null
          }
        },
        "1d2db4bebe9a4d74a8ac49b1b9f8ac99": {
          "model_module": "@jupyter-widgets/base",
          "model_name": "LayoutModel",
          "model_module_version": "1.2.0",
          "state": {
            "_model_module": "@jupyter-widgets/base",
            "_model_module_version": "1.2.0",
            "_model_name": "LayoutModel",
            "_view_count": null,
            "_view_module": "@jupyter-widgets/base",
            "_view_module_version": "1.2.0",
            "_view_name": "LayoutView",
            "align_content": null,
            "align_items": null,
            "align_self": null,
            "border": null,
            "bottom": null,
            "display": null,
            "flex": null,
            "flex_flow": null,
            "grid_area": null,
            "grid_auto_columns": null,
            "grid_auto_flow": null,
            "grid_auto_rows": null,
            "grid_column": null,
            "grid_gap": null,
            "grid_row": null,
            "grid_template_areas": null,
            "grid_template_columns": null,
            "grid_template_rows": null,
            "height": null,
            "justify_content": null,
            "justify_items": null,
            "left": null,
            "margin": null,
            "max_height": null,
            "max_width": null,
            "min_height": null,
            "min_width": null,
            "object_fit": null,
            "object_position": null,
            "order": null,
            "overflow": null,
            "overflow_x": null,
            "overflow_y": null,
            "padding": null,
            "right": null,
            "top": null,
            "visibility": null,
            "width": null
          }
        },
        "7af5cbfe117b408e81f89e60ec51f072": {
          "model_module": "@jupyter-widgets/controls",
          "model_name": "DescriptionStyleModel",
          "model_module_version": "1.5.0",
          "state": {
            "_model_module": "@jupyter-widgets/controls",
            "_model_module_version": "1.5.0",
            "_model_name": "DescriptionStyleModel",
            "_view_count": null,
            "_view_module": "@jupyter-widgets/base",
            "_view_module_version": "1.2.0",
            "_view_name": "StyleView",
            "description_width": ""
          }
        },
        "63435786d21f4ea9b781be3313a05f65": {
          "model_module": "@jupyter-widgets/base",
          "model_name": "LayoutModel",
          "model_module_version": "1.2.0",
          "state": {
            "_model_module": "@jupyter-widgets/base",
            "_model_module_version": "1.2.0",
            "_model_name": "LayoutModel",
            "_view_count": null,
            "_view_module": "@jupyter-widgets/base",
            "_view_module_version": "1.2.0",
            "_view_name": "LayoutView",
            "align_content": null,
            "align_items": null,
            "align_self": null,
            "border": null,
            "bottom": null,
            "display": null,
            "flex": null,
            "flex_flow": null,
            "grid_area": null,
            "grid_auto_columns": null,
            "grid_auto_flow": null,
            "grid_auto_rows": null,
            "grid_column": null,
            "grid_gap": null,
            "grid_row": null,
            "grid_template_areas": null,
            "grid_template_columns": null,
            "grid_template_rows": null,
            "height": null,
            "justify_content": null,
            "justify_items": null,
            "left": null,
            "margin": null,
            "max_height": null,
            "max_width": null,
            "min_height": null,
            "min_width": null,
            "object_fit": null,
            "object_position": null,
            "order": null,
            "overflow": null,
            "overflow_x": null,
            "overflow_y": null,
            "padding": null,
            "right": null,
            "top": null,
            "visibility": null,
            "width": null
          }
        },
        "30ef1f23ef7c486ca7e1142f67659175": {
          "model_module": "@jupyter-widgets/controls",
          "model_name": "ProgressStyleModel",
          "model_module_version": "1.5.0",
          "state": {
            "_model_module": "@jupyter-widgets/controls",
            "_model_module_version": "1.5.0",
            "_model_name": "ProgressStyleModel",
            "_view_count": null,
            "_view_module": "@jupyter-widgets/base",
            "_view_module_version": "1.2.0",
            "_view_name": "StyleView",
            "bar_color": null,
            "description_width": ""
          }
        },
        "1a18941d3b334ee5ba651a1b95b9ca68": {
          "model_module": "@jupyter-widgets/base",
          "model_name": "LayoutModel",
          "model_module_version": "1.2.0",
          "state": {
            "_model_module": "@jupyter-widgets/base",
            "_model_module_version": "1.2.0",
            "_model_name": "LayoutModel",
            "_view_count": null,
            "_view_module": "@jupyter-widgets/base",
            "_view_module_version": "1.2.0",
            "_view_name": "LayoutView",
            "align_content": null,
            "align_items": null,
            "align_self": null,
            "border": null,
            "bottom": null,
            "display": null,
            "flex": null,
            "flex_flow": null,
            "grid_area": null,
            "grid_auto_columns": null,
            "grid_auto_flow": null,
            "grid_auto_rows": null,
            "grid_column": null,
            "grid_gap": null,
            "grid_row": null,
            "grid_template_areas": null,
            "grid_template_columns": null,
            "grid_template_rows": null,
            "height": null,
            "justify_content": null,
            "justify_items": null,
            "left": null,
            "margin": null,
            "max_height": null,
            "max_width": null,
            "min_height": null,
            "min_width": null,
            "object_fit": null,
            "object_position": null,
            "order": null,
            "overflow": null,
            "overflow_x": null,
            "overflow_y": null,
            "padding": null,
            "right": null,
            "top": null,
            "visibility": null,
            "width": null
          }
        },
        "0112e7fbea714544a097936b836edb15": {
          "model_module": "@jupyter-widgets/controls",
          "model_name": "DescriptionStyleModel",
          "model_module_version": "1.5.0",
          "state": {
            "_model_module": "@jupyter-widgets/controls",
            "_model_module_version": "1.5.0",
            "_model_name": "DescriptionStyleModel",
            "_view_count": null,
            "_view_module": "@jupyter-widgets/base",
            "_view_module_version": "1.2.0",
            "_view_name": "StyleView",
            "description_width": ""
          }
        }
      }
    }
  },
  "cells": [
    {
      "cell_type": "code",
      "execution_count": 2,
      "metadata": {
        "colab": {
          "base_uri": "https://localhost:8080/"
        },
        "id": "tThyT-aQdvgn",
        "outputId": "833374e9-097e-456c-c84b-3d4d3ae86c55"
      },
      "outputs": [
        {
          "output_type": "stream",
          "name": "stdout",
          "text": [
            "Requirement already satisfied: tensorflow in /usr/local/lib/python3.10/dist-packages (2.15.0)\n",
            "Requirement already satisfied: transformers in /usr/local/lib/python3.10/dist-packages (4.35.2)\n",
            "Requirement already satisfied: absl-py>=1.0.0 in /usr/local/lib/python3.10/dist-packages (from tensorflow) (1.4.0)\n",
            "Requirement already satisfied: astunparse>=1.6.0 in /usr/local/lib/python3.10/dist-packages (from tensorflow) (1.6.3)\n",
            "Requirement already satisfied: flatbuffers>=23.5.26 in /usr/local/lib/python3.10/dist-packages (from tensorflow) (23.5.26)\n",
            "Requirement already satisfied: gast!=0.5.0,!=0.5.1,!=0.5.2,>=0.2.1 in /usr/local/lib/python3.10/dist-packages (from tensorflow) (0.5.4)\n",
            "Requirement already satisfied: google-pasta>=0.1.1 in /usr/local/lib/python3.10/dist-packages (from tensorflow) (0.2.0)\n",
            "Requirement already satisfied: h5py>=2.9.0 in /usr/local/lib/python3.10/dist-packages (from tensorflow) (3.9.0)\n",
            "Requirement already satisfied: libclang>=13.0.0 in /usr/local/lib/python3.10/dist-packages (from tensorflow) (16.0.6)\n",
            "Requirement already satisfied: ml-dtypes~=0.2.0 in /usr/local/lib/python3.10/dist-packages (from tensorflow) (0.2.0)\n",
            "Requirement already satisfied: numpy<2.0.0,>=1.23.5 in /usr/local/lib/python3.10/dist-packages (from tensorflow) (1.23.5)\n",
            "Requirement already satisfied: opt-einsum>=2.3.2 in /usr/local/lib/python3.10/dist-packages (from tensorflow) (3.3.0)\n",
            "Requirement already satisfied: packaging in /usr/local/lib/python3.10/dist-packages (from tensorflow) (23.2)\n",
            "Requirement already satisfied: protobuf!=4.21.0,!=4.21.1,!=4.21.2,!=4.21.3,!=4.21.4,!=4.21.5,<5.0.0dev,>=3.20.3 in /usr/local/lib/python3.10/dist-packages (from tensorflow) (3.20.3)\n",
            "Requirement already satisfied: setuptools in /usr/local/lib/python3.10/dist-packages (from tensorflow) (67.7.2)\n",
            "Requirement already satisfied: six>=1.12.0 in /usr/local/lib/python3.10/dist-packages (from tensorflow) (1.16.0)\n",
            "Requirement already satisfied: termcolor>=1.1.0 in /usr/local/lib/python3.10/dist-packages (from tensorflow) (2.4.0)\n",
            "Requirement already satisfied: typing-extensions>=3.6.6 in /usr/local/lib/python3.10/dist-packages (from tensorflow) (4.5.0)\n",
            "Requirement already satisfied: wrapt<1.15,>=1.11.0 in /usr/local/lib/python3.10/dist-packages (from tensorflow) (1.14.1)\n",
            "Requirement already satisfied: tensorflow-io-gcs-filesystem>=0.23.1 in /usr/local/lib/python3.10/dist-packages (from tensorflow) (0.34.0)\n",
            "Requirement already satisfied: grpcio<2.0,>=1.24.3 in /usr/local/lib/python3.10/dist-packages (from tensorflow) (1.60.0)\n",
            "Requirement already satisfied: tensorboard<2.16,>=2.15 in /usr/local/lib/python3.10/dist-packages (from tensorflow) (2.15.1)\n",
            "Requirement already satisfied: tensorflow-estimator<2.16,>=2.15.0 in /usr/local/lib/python3.10/dist-packages (from tensorflow) (2.15.0)\n",
            "Requirement already satisfied: keras<2.16,>=2.15.0 in /usr/local/lib/python3.10/dist-packages (from tensorflow) (2.15.0)\n",
            "Requirement already satisfied: filelock in /usr/local/lib/python3.10/dist-packages (from transformers) (3.13.1)\n",
            "Requirement already satisfied: huggingface-hub<1.0,>=0.16.4 in /usr/local/lib/python3.10/dist-packages (from transformers) (0.19.4)\n",
            "Requirement already satisfied: pyyaml>=5.1 in /usr/local/lib/python3.10/dist-packages (from transformers) (6.0.1)\n",
            "Requirement already satisfied: regex!=2019.12.17 in /usr/local/lib/python3.10/dist-packages (from transformers) (2023.6.3)\n",
            "Requirement already satisfied: requests in /usr/local/lib/python3.10/dist-packages (from transformers) (2.31.0)\n",
            "Requirement already satisfied: tokenizers<0.19,>=0.14 in /usr/local/lib/python3.10/dist-packages (from transformers) (0.15.0)\n",
            "Requirement already satisfied: safetensors>=0.3.1 in /usr/local/lib/python3.10/dist-packages (from transformers) (0.4.1)\n",
            "Requirement already satisfied: tqdm>=4.27 in /usr/local/lib/python3.10/dist-packages (from transformers) (4.66.1)\n",
            "Requirement already satisfied: wheel<1.0,>=0.23.0 in /usr/local/lib/python3.10/dist-packages (from astunparse>=1.6.0->tensorflow) (0.42.0)\n",
            "Requirement already satisfied: fsspec>=2023.5.0 in /usr/local/lib/python3.10/dist-packages (from huggingface-hub<1.0,>=0.16.4->transformers) (2023.6.0)\n",
            "Requirement already satisfied: google-auth<3,>=1.6.3 in /usr/local/lib/python3.10/dist-packages (from tensorboard<2.16,>=2.15->tensorflow) (2.17.3)\n",
            "Requirement already satisfied: google-auth-oauthlib<2,>=0.5 in /usr/local/lib/python3.10/dist-packages (from tensorboard<2.16,>=2.15->tensorflow) (1.2.0)\n",
            "Requirement already satisfied: markdown>=2.6.8 in /usr/local/lib/python3.10/dist-packages (from tensorboard<2.16,>=2.15->tensorflow) (3.5.1)\n",
            "Requirement already satisfied: tensorboard-data-server<0.8.0,>=0.7.0 in /usr/local/lib/python3.10/dist-packages (from tensorboard<2.16,>=2.15->tensorflow) (0.7.2)\n",
            "Requirement already satisfied: werkzeug>=1.0.1 in /usr/local/lib/python3.10/dist-packages (from tensorboard<2.16,>=2.15->tensorflow) (3.0.1)\n",
            "Requirement already satisfied: charset-normalizer<4,>=2 in /usr/local/lib/python3.10/dist-packages (from requests->transformers) (3.3.2)\n",
            "Requirement already satisfied: idna<4,>=2.5 in /usr/local/lib/python3.10/dist-packages (from requests->transformers) (3.6)\n",
            "Requirement already satisfied: urllib3<3,>=1.21.1 in /usr/local/lib/python3.10/dist-packages (from requests->transformers) (2.0.7)\n",
            "Requirement already satisfied: certifi>=2017.4.17 in /usr/local/lib/python3.10/dist-packages (from requests->transformers) (2023.11.17)\n",
            "Requirement already satisfied: cachetools<6.0,>=2.0.0 in /usr/local/lib/python3.10/dist-packages (from google-auth<3,>=1.6.3->tensorboard<2.16,>=2.15->tensorflow) (5.3.2)\n",
            "Requirement already satisfied: pyasn1-modules>=0.2.1 in /usr/local/lib/python3.10/dist-packages (from google-auth<3,>=1.6.3->tensorboard<2.16,>=2.15->tensorflow) (0.3.0)\n",
            "Requirement already satisfied: rsa<5,>=3.1.4 in /usr/local/lib/python3.10/dist-packages (from google-auth<3,>=1.6.3->tensorboard<2.16,>=2.15->tensorflow) (4.9)\n",
            "Requirement already satisfied: requests-oauthlib>=0.7.0 in /usr/local/lib/python3.10/dist-packages (from google-auth-oauthlib<2,>=0.5->tensorboard<2.16,>=2.15->tensorflow) (1.3.1)\n",
            "Requirement already satisfied: MarkupSafe>=2.1.1 in /usr/local/lib/python3.10/dist-packages (from werkzeug>=1.0.1->tensorboard<2.16,>=2.15->tensorflow) (2.1.3)\n",
            "Requirement already satisfied: pyasn1<0.6.0,>=0.4.6 in /usr/local/lib/python3.10/dist-packages (from pyasn1-modules>=0.2.1->google-auth<3,>=1.6.3->tensorboard<2.16,>=2.15->tensorflow) (0.5.1)\n",
            "Requirement already satisfied: oauthlib>=3.0.0 in /usr/local/lib/python3.10/dist-packages (from requests-oauthlib>=0.7.0->google-auth-oauthlib<2,>=0.5->tensorboard<2.16,>=2.15->tensorflow) (3.2.2)\n"
          ]
        }
      ],
      "source": [
        "pip install tensorflow transformers\n"
      ]
    },
    {
      "cell_type": "code",
      "source": [
        "import pandas as pd\n",
        "from sklearn.model_selection import train_test_split\n",
        "from transformers import RobertaTokenizer\n",
        "\n",
        "# Load your dataset\n",
        "df = pd.read_csv(\"/content/sentiment_analysis_self_driving_vehicles.csv\")\n",
        "df_shuffled = df.sample(frac=1).reset_index(drop=True)\n",
        "number_of_clients = 3  # Replace with your number of clients\n",
        "\n",
        "# Calculate the size of each chunk\n",
        "chunk_size = len(df_shuffled) // number_of_clients\n",
        "i = 0\n",
        "# Split the DataFrame into chunks\n",
        "df_client = df.iloc[0:chunk_size]\n",
        "\n",
        "\n",
        "# Preprocessing\n",
        "tokenizer = RobertaTokenizer.from_pretrained(\"roberta-base\")\n",
        "\n",
        "def encode_reviews(tokenizer, reviews, max_length):\n",
        "    return tokenizer.batch_encode_plus(reviews,\n",
        "                                       truncation=True,\n",
        "                                       padding='max_length',\n",
        "                                       max_length=max_length,\n",
        "                                       return_attention_mask=True,\n",
        "                                       return_token_type_ids=False)\n",
        "\n",
        "# Encode the text\n",
        "encoded_data = encode_reviews(tokenizer, df_client['Text'].tolist(), max_length=128)\n",
        "\n",
        "# Create inputs\n",
        "inputs = {\n",
        "    'input_ids': encoded_data['input_ids'],\n",
        "    'attention_mask': encoded_data['attention_mask']\n",
        "}\n",
        "\n",
        "# Convert labels to numerical format\n",
        "label_dict = {\"Positive\": 1, \"Negative\": 0, \"Neutral\": 2}  # Adjust as needed\n",
        "df_client['Sentiment'] = df_client['Sentiment'].replace(label_dict)\n",
        "\n",
        "# Split the dataset\n",
        "train_input_ids, test_input_ids, train_attention_masks, test_attention_masks, train_labels, test_labels = train_test_split(\n",
        "    encoded_data['input_ids'], encoded_data['attention_mask'], df_client['Sentiment'].values, test_size=0.2)\n",
        "\n",
        "# Reconstruct the inputs as dictionaries\n",
        "train_inputs = {'input_ids': train_input_ids, 'attention_mask': train_attention_masks}\n",
        "test_inputs = {'input_ids': test_input_ids, 'attention_mask': test_attention_masks}\n"
      ],
      "metadata": {
        "id": "UvEyVKCWd05e",
        "colab": {
          "base_uri": "https://localhost:8080/"
        },
        "outputId": "be2c3e25-5777-4236-8b0a-1a8cf7997e94"
      },
      "execution_count": 7,
      "outputs": [
        {
          "output_type": "stream",
          "name": "stderr",
          "text": [
            "<ipython-input-7-9c09f210c533>:39: SettingWithCopyWarning: \n",
            "A value is trying to be set on a copy of a slice from a DataFrame.\n",
            "Try using .loc[row_indexer,col_indexer] = value instead\n",
            "\n",
            "See the caveats in the documentation: https://pandas.pydata.org/pandas-docs/stable/user_guide/indexing.html#returning-a-view-versus-a-copy\n",
            "  df_client['Sentiment'] = df_client['Sentiment'].replace(label_dict)\n"
          ]
        }
      ]
    },
    {
      "cell_type": "code",
      "source": [
        "import tensorflow as tf\n",
        "\n",
        "def create_tf_dataset(inputs, labels, batch_size):\n",
        "    dataset = tf.data.Dataset.from_tensor_slices((inputs, labels))\n",
        "    dataset = dataset.batch(batch_size)\n",
        "    return dataset\n",
        "\n",
        "batch_size = 32\n",
        "\n",
        "train_dataset = create_tf_dataset(train_inputs, train_labels, batch_size)\n",
        "test_dataset = create_tf_dataset(test_inputs, test_labels, batch_size)\n"
      ],
      "metadata": {
        "id": "qbfCZF1uija3"
      },
      "execution_count": 8,
      "outputs": []
    },
    {
      "cell_type": "code",
      "source": [
        "from transformers import TFRobertaForSequenceClassification\n",
        "from transformers import AdamW\n",
        "import tensorflow as tf\n",
        "# Load the RoBERTa model\n",
        "client_model1 = TFRobertaForSequenceClassification.from_pretrained(\"roberta-base\", num_labels=len(label_dict))\n",
        "\n",
        "# Compile the model\n",
        "optimizer = tf.keras.optimizers.Adam(learning_rate=2e-5)\n",
        "loss = tf.keras.losses.SparseCategoricalCrossentropy(from_logits=True)\n",
        "client_model1.compile(optimizer=optimizer, loss=loss, metrics=['accuracy'])\n"
      ],
      "metadata": {
        "colab": {
          "base_uri": "https://localhost:8080/",
          "height": 156,
          "referenced_widgets": [
            "bc32bd8895f64bdeb2b75ffa83596c99",
            "9542535b71bc49cb8da74c02befe670f",
            "b6569f4b2ea34ba199f5fa250fe586b0",
            "1df812f950b247bdb809fc14dfb6e66f",
            "041d428251d8439da63b5d196bbfdaf7",
            "1d2db4bebe9a4d74a8ac49b1b9f8ac99",
            "7af5cbfe117b408e81f89e60ec51f072",
            "63435786d21f4ea9b781be3313a05f65",
            "30ef1f23ef7c486ca7e1142f67659175",
            "1a18941d3b334ee5ba651a1b95b9ca68",
            "0112e7fbea714544a097936b836edb15"
          ]
        },
        "id": "82mZRCMMd03H",
        "outputId": "e2fc90b2-a1a0-4155-f19d-a6e05ba09dbc"
      },
      "execution_count": 9,
      "outputs": [
        {
          "output_type": "display_data",
          "data": {
            "text/plain": [
              "model.safetensors:   0%|          | 0.00/499M [00:00<?, ?B/s]"
            ],
            "application/vnd.jupyter.widget-view+json": {
              "version_major": 2,
              "version_minor": 0,
              "model_id": "bc32bd8895f64bdeb2b75ffa83596c99"
            }
          },
          "metadata": {}
        },
        {
          "output_type": "stream",
          "name": "stderr",
          "text": [
            "Some weights of the PyTorch model were not used when initializing the TF 2.0 model TFRobertaForSequenceClassification: ['roberta.embeddings.position_ids']\n",
            "- This IS expected if you are initializing TFRobertaForSequenceClassification from a PyTorch model trained on another task or with another architecture (e.g. initializing a TFBertForSequenceClassification model from a BertForPreTraining model).\n",
            "- This IS NOT expected if you are initializing TFRobertaForSequenceClassification from a PyTorch model that you expect to be exactly identical (e.g. initializing a TFBertForSequenceClassification model from a BertForSequenceClassification model).\n",
            "Some weights or buffers of the TF 2.0 model TFRobertaForSequenceClassification were not initialized from the PyTorch model and are newly initialized: ['classifier.dense.weight', 'classifier.dense.bias', 'classifier.out_proj.weight', 'classifier.out_proj.bias']\n",
            "You should probably TRAIN this model on a down-stream task to be able to use it for predictions and inference.\n"
          ]
        }
      ]
    },
    {
      "cell_type": "code",
      "source": [
        "epochs = 3\n",
        "\n",
        "client_model1.fit(train_dataset,\n",
        "          epochs=epochs,\n",
        "          validation_data=test_dataset)\n"
      ],
      "metadata": {
        "colab": {
          "base_uri": "https://localhost:8080/"
        },
        "id": "nwVX6kYOd00Q",
        "outputId": "8c279793-4eef-4b27-b8e9-76d81c53605e"
      },
      "execution_count": null,
      "outputs": [
        {
          "output_type": "stream",
          "name": "stdout",
          "text": [
            "Epoch 1/3\n",
            "1/5 [=====>........................] - ETA: 4:00 - loss: 1.0666 - accuracy: 0.5000"
          ]
        }
      ]
    },
    {
      "cell_type": "code",
      "source": [
        "client_model1.evaluate(test_dataset)\n"
      ],
      "metadata": {
        "id": "dtPHaj-zd0xq"
      },
      "execution_count": null,
      "outputs": []
    },
    {
      "cell_type": "code",
      "source": [
        "#client2"
      ],
      "metadata": {
        "id": "gBWNK6rLd0uh"
      },
      "execution_count": null,
      "outputs": []
    },
    {
      "cell_type": "code",
      "source": [
        "i = 1\n",
        "# Split the DataFrame into chunks\n",
        "df_client = df.iloc[chunk_size:2*chunk_size]\n",
        "\n",
        "\n",
        "# Preprocessing\n",
        "tokenizer = RobertaTokenizer.from_pretrained(\"roberta-base\")\n",
        "\n",
        "def encode_reviews(tokenizer, reviews, max_length):\n",
        "    return tokenizer.batch_encode_plus(reviews,\n",
        "                                       truncation=True,\n",
        "                                       padding='max_length',\n",
        "                                       max_length=max_length,\n",
        "                                       return_attention_mask=True,\n",
        "                                       return_token_type_ids=False)\n",
        "\n",
        "# Encode the text\n",
        "encoded_data = encode_reviews(tokenizer, df_client['Text'].tolist(), max_length=128)\n",
        "\n",
        "# Create inputs\n",
        "inputs = {\n",
        "    'input_ids': encoded_data['input_ids'],\n",
        "    'attention_mask': encoded_data['attention_mask']\n",
        "}\n",
        "\n",
        "# Convert labels to numerical format\n",
        "label_dict = {\"Positive\": 1, \"Negative\": 0, \"Neutral\": 2}  # Adjust as needed\n",
        "df_client['Sentiment'] = df_client['Sentiment'].replace(label_dict)\n",
        "\n",
        "# Split the dataset\n",
        "train_input_ids, test_input_ids, train_attention_masks, test_attention_masks, train_labels, test_labels = train_test_split(\n",
        "    encoded_data['input_ids'], encoded_data['attention_mask'], df_client['Sentiment'].values, test_size=0.2)\n",
        "\n",
        "# Reconstruct the inputs as dictionaries\n",
        "train_inputs = {'input_ids': train_input_ids, 'attention_mask': train_attention_masks}\n",
        "test_inputs = {'input_ids': test_input_ids, 'attention_mask': test_attention_masks}\n"
      ],
      "metadata": {
        "id": "YWU2DZQ3d0r8"
      },
      "execution_count": null,
      "outputs": []
    },
    {
      "cell_type": "code",
      "source": [
        "import tensorflow as tf\n",
        "\n",
        "def create_tf_dataset(inputs, labels, batch_size):\n",
        "    dataset = tf.data.Dataset.from_tensor_slices((inputs, labels))\n",
        "    dataset = dataset.batch(batch_size)\n",
        "    return dataset\n",
        "\n",
        "batch_size = 32\n",
        "\n",
        "train_dataset = create_tf_dataset(train_inputs, train_labels, batch_size)\n",
        "test_dataset = create_tf_dataset(test_inputs, test_labels, batch_size)\n",
        "from transformers import TFRobertaForSequenceClassification\n",
        "from transformers import AdamW\n",
        "import tensorflow as tf\n",
        "# Load the RoBERTa model\n",
        "client_model2 = TFRobertaForSequenceClassification.from_pretrained(\"roberta-base\", num_labels=len(label_dict))\n",
        "\n",
        "# Compile the model\n",
        "optimizer = tf.keras.optimizers.Adam(learning_rate=2e-5)\n",
        "loss = tf.keras.losses.SparseCategoricalCrossentropy(from_logits=True)\n",
        "client_model2.compile(optimizer=optimizer, loss=loss, metrics=['accuracy'])\n",
        "epochs = 3\n",
        "\n",
        "client_model2.fit(train_dataset,\n",
        "          epochs=epochs,\n",
        "          validation_data=test_dataset)\n",
        "client_model2.evaluate(test_dataset)\n"
      ],
      "metadata": {
        "id": "ZedYZ6Z-d0oj"
      },
      "execution_count": null,
      "outputs": []
    },
    {
      "cell_type": "code",
      "source": [
        "#client 3"
      ],
      "metadata": {
        "id": "mOalQ2sed0k6"
      },
      "execution_count": null,
      "outputs": []
    },
    {
      "cell_type": "code",
      "source": [
        "i = 2\n",
        "# Split the DataFrame into chunks\n",
        "df_client = df.iloc[2*chunk_size:]\n",
        "\n",
        "\n",
        "# Preprocessing\n",
        "tokenizer = RobertaTokenizer.from_pretrained(\"roberta-base\")\n",
        "\n",
        "def encode_reviews(tokenizer, reviews, max_length):\n",
        "    return tokenizer.batch_encode_plus(reviews,\n",
        "                                       truncation=True,\n",
        "                                       padding='max_length',\n",
        "                                       max_length=max_length,\n",
        "                                       return_attention_mask=True,\n",
        "                                       return_token_type_ids=False)\n",
        "\n",
        "# Encode the text\n",
        "encoded_data = encode_reviews(tokenizer, df_client['Text'].tolist(), max_length=128)\n",
        "\n",
        "# Create inputs\n",
        "inputs = {\n",
        "    'input_ids': encoded_data['input_ids'],\n",
        "    'attention_mask': encoded_data['attention_mask']\n",
        "}\n",
        "\n",
        "# Convert labels to numerical format\n",
        "label_dict = {\"Positive\": 1, \"Negative\": 0, \"Neutral\": 2}  # Adjust as needed\n",
        "df_client['Sentiment'] = df_client['Sentiment'].replace(label_dict)\n",
        "\n",
        "# Split the dataset\n",
        "train_input_ids, test_input_ids, train_attention_masks, test_attention_masks, train_labels, test_labels = train_test_split(\n",
        "    encoded_data['input_ids'], encoded_data['attention_mask'], df_client['Sentiment'].values, test_size=0.2)\n",
        "\n",
        "# Reconstruct the inputs as dictionaries\n",
        "train_inputs = {'input_ids': train_input_ids, 'attention_mask': train_attention_masks}\n",
        "test_inputs = {'input_ids': test_input_ids, 'attention_mask': test_attention_masks}\n"
      ],
      "metadata": {
        "id": "RpFXbigwkziy"
      },
      "execution_count": null,
      "outputs": []
    },
    {
      "cell_type": "code",
      "source": [
        "import tensorflow as tf\n",
        "\n",
        "def create_tf_dataset(inputs, labels, batch_size):\n",
        "    dataset = tf.data.Dataset.from_tensor_slices((inputs, labels))\n",
        "    dataset = dataset.batch(batch_size)\n",
        "    return dataset\n",
        "\n",
        "batch_size = 32\n",
        "\n",
        "train_dataset = create_tf_dataset(train_inputs, train_labels, batch_size)\n",
        "test_dataset = create_tf_dataset(test_inputs, test_labels, batch_size)\n",
        "from transformers import TFRobertaForSequenceClassification\n",
        "from transformers import AdamW\n",
        "import tensorflow as tf\n",
        "# Load the RoBERTa model\n",
        "client_model3= TFRobertaForSequenceClassification.from_pretrained(\"roberta-base\", num_labels=len(label_dict))\n",
        "\n",
        "# Compile the model\n",
        "optimizer = tf.keras.optimizers.Adam(learning_rate=2e-5)\n",
        "loss = tf.keras.losses.SparseCategoricalCrossentropy(from_logits=True)\n",
        "client_model3.compile(optimizer=optimizer, loss=loss, metrics=['accuracy'])\n",
        "epochs = 3\n",
        "\n",
        "client_model3.fit(train_dataset,\n",
        "          epochs=epochs,\n",
        "          validation_data=test_dataset)\n",
        "client_model3.evaluate(test_dataset)"
      ],
      "metadata": {
        "id": "ds9HyYLokzcT"
      },
      "execution_count": null,
      "outputs": []
    },
    {
      "cell_type": "markdown",
      "source": [
        "#get model paramters"
      ],
      "metadata": {
        "id": "PVprcY0MmGrn"
      }
    },
    {
      "cell_type": "code",
      "source": [
        "weights = []\n",
        "weights.append(client_model1.get_weights())\n",
        "weights.append(client_model2.get_weights())\n",
        "weights.append(client_model3.get_weights())"
      ],
      "metadata": {
        "id": "TMC_Oy8-mGQh"
      },
      "execution_count": null,
      "outputs": []
    },
    {
      "cell_type": "code",
      "source": [
        "from transformers import GPT2Model\n",
        "\n",
        "# Initialize the model architecture\n",
        "from transformers import BertModel, BertTokenizer\n",
        "\n",
        "# Initialize the tokenizer and model\n",
        "tokenizer = BertTokenizer.from_pretrained('bert-base-cased')\n",
        "model = BertModel.from_pretrained('bert-base-cased')\n",
        "import torch\n",
        "avg_params = [sum(param) / len(param) for param in zip(*weights)]\n",
        "model.set_weights( avg_params)\n",
        "\n",
        "# Path to your custom weights\n"
      ],
      "metadata": {
        "id": "rZN7Og8qmGDS"
      },
      "execution_count": null,
      "outputs": []
    },
    {
      "cell_type": "code",
      "source": [
        "model.evaluate(test_dataset)\n"
      ],
      "metadata": {
        "id": "k8mVt9dnnNFa"
      },
      "execution_count": null,
      "outputs": []
    },
    {
      "cell_type": "code",
      "source": [],
      "metadata": {
        "id": "Ve_fl2Y2oRL3"
      },
      "execution_count": null,
      "outputs": []
    }
  ]
}